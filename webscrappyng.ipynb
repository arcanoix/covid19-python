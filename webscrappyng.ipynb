{
  "nbformat": 4,
  "nbformat_minor": 0,
  "metadata": {
    "colab": {
      "name": "webscrappyng.ipynb",
      "provenance": [],
      "collapsed_sections": [],
      "mount_file_id": "1jTeB6Tu85tT2HuhxzyiNhwYP0f_KOEAX",
      "authorship_tag": "ABX9TyN0J27WVs30b5j1Pb9nKNE8",
      "include_colab_link": true
    },
    "kernelspec": {
      "name": "python3",
      "display_name": "Python 3"
    }
  },
  "cells": [
    {
      "cell_type": "markdown",
      "metadata": {
        "id": "view-in-github",
        "colab_type": "text"
      },
      "source": [
        "<a href=\"https://colab.research.google.com/github/thavoo/covid19-python/blob/master/webscrappyng.ipynb\" target=\"_parent\"><img src=\"https://colab.research.google.com/assets/colab-badge.svg\" alt=\"Open In Colab\"/></a>"
      ]
    },
    {
      "cell_type": "code",
      "metadata": {
        "id": "20RmWnDOLtDk",
        "colab_type": "code",
        "colab": {}
      },
      "source": [
        "import numpy as np\n",
        "import pandas as pd\n",
        "\n",
        "import requests\n",
        "from bs4 import BeautifulSoup\n"
      ],
      "execution_count": 0,
      "outputs": []
    },
    {
      "cell_type": "code",
      "metadata": {
        "id": "gV57LND2M0WR",
        "colab_type": "code",
        "colab": {}
      },
      "source": [
        "req = requests.get('https://www.worldometers.info/coronavirus/')"
      ],
      "execution_count": 0,
      "outputs": []
    },
    {
      "cell_type": "code",
      "metadata": {
        "id": "wxUutxSpNzj1",
        "colab_type": "code",
        "colab": {}
      },
      "source": [
        "soup = BeautifulSoup(req.content)"
      ],
      "execution_count": 0,
      "outputs": []
    },
    {
      "cell_type": "code",
      "metadata": {
        "id": "DmLdXfF1N5ll",
        "colab_type": "code",
        "colab": {}
      },
      "source": [
        "data = list(map(lambda x: list(map(lambda y: y.text, x.select('td, th'))), soup.select('table#main_table_countries_today tr')))"
      ],
      "execution_count": 0,
      "outputs": []
    },
    {
      "cell_type": "code",
      "metadata": {
        "id": "92huz72ePlNG",
        "colab_type": "code",
        "colab": {}
      },
      "source": [
        "df = pd.DataFrame(data)"
      ],
      "execution_count": 0,
      "outputs": []
    },
    {
      "cell_type": "code",
      "metadata": {
        "id": "HPyAmAcNP2rK",
        "colab_type": "code",
        "colab": {}
      },
      "source": [
        "df.columns = df.iloc[0]"
      ],
      "execution_count": 0,
      "outputs": []
    },
    {
      "cell_type": "code",
      "metadata": {
        "id": "n-1jR9n5QTh2",
        "colab_type": "code",
        "colab": {}
      },
      "source": [
        "df.drop(0, axis=0,inplace=True)"
      ],
      "execution_count": 0,
      "outputs": []
    },
    {
      "cell_type": "code",
      "metadata": {
        "id": "b_0Djjp6QkVm",
        "colab_type": "code",
        "colab": {
          "base_uri": "https://localhost:8080/",
          "height": 419
        },
        "outputId": "8ac7eab1-8735-4dd3-b3dd-4f405d1c7f6d"
      },
      "source": [
        "df"
      ],
      "execution_count": 17,
      "outputs": [
        {
          "output_type": "execute_result",
          "data": {
            "text/html": [
              "<div>\n",
              "<style scoped>\n",
              "    .dataframe tbody tr th:only-of-type {\n",
              "        vertical-align: middle;\n",
              "    }\n",
              "\n",
              "    .dataframe tbody tr th {\n",
              "        vertical-align: top;\n",
              "    }\n",
              "\n",
              "    .dataframe thead th {\n",
              "        text-align: right;\n",
              "    }\n",
              "</style>\n",
              "<table border=\"1\" class=\"dataframe\">\n",
              "  <thead>\n",
              "    <tr style=\"text-align: right;\">\n",
              "      <th></th>\n",
              "      <th>Country,Other</th>\n",
              "      <th>TotalCases</th>\n",
              "      <th>NewCases</th>\n",
              "      <th>TotalDeaths</th>\n",
              "      <th>NewDeaths</th>\n",
              "      <th>TotalRecovered</th>\n",
              "      <th>ActiveCases</th>\n",
              "      <th>Serious,Critical</th>\n",
              "      <th>Tot Cases/1M pop</th>\n",
              "      <th>Tot Deaths/1M pop</th>\n",
              "    </tr>\n",
              "  </thead>\n",
              "  <tbody>\n",
              "    <tr>\n",
              "      <th>1</th>\n",
              "      <td>China</td>\n",
              "      <td>81,285</td>\n",
              "      <td>+67</td>\n",
              "      <td>3,287</td>\n",
              "      <td>+6</td>\n",
              "      <td>74,051</td>\n",
              "      <td>3,947</td>\n",
              "      <td>1,235</td>\n",
              "      <td>56</td>\n",
              "      <td>2</td>\n",
              "    </tr>\n",
              "    <tr>\n",
              "      <th>2</th>\n",
              "      <td>Italy</td>\n",
              "      <td>74,386</td>\n",
              "      <td></td>\n",
              "      <td>7,503</td>\n",
              "      <td></td>\n",
              "      <td>9,362</td>\n",
              "      <td>57,521</td>\n",
              "      <td>3,489</td>\n",
              "      <td>1,230</td>\n",
              "      <td>124</td>\n",
              "    </tr>\n",
              "    <tr>\n",
              "      <th>3</th>\n",
              "      <td>USA</td>\n",
              "      <td>68,836</td>\n",
              "      <td>+625</td>\n",
              "      <td>1,037</td>\n",
              "      <td>+10</td>\n",
              "      <td>428</td>\n",
              "      <td>67,371</td>\n",
              "      <td>1,455</td>\n",
              "      <td>208</td>\n",
              "      <td>3</td>\n",
              "    </tr>\n",
              "    <tr>\n",
              "      <th>4</th>\n",
              "      <td>Spain</td>\n",
              "      <td>56,188</td>\n",
              "      <td>+6,673</td>\n",
              "      <td>4,089</td>\n",
              "      <td>+442</td>\n",
              "      <td>7,015</td>\n",
              "      <td>45,084</td>\n",
              "      <td>3,166</td>\n",
              "      <td>1,202</td>\n",
              "      <td>87</td>\n",
              "    </tr>\n",
              "    <tr>\n",
              "      <th>5</th>\n",
              "      <td>Germany</td>\n",
              "      <td>40,421</td>\n",
              "      <td>+3,098</td>\n",
              "      <td>229</td>\n",
              "      <td>+23</td>\n",
              "      <td>3,959</td>\n",
              "      <td>36,233</td>\n",
              "      <td>23</td>\n",
              "      <td>482</td>\n",
              "      <td>3</td>\n",
              "    </tr>\n",
              "    <tr>\n",
              "      <th>...</th>\n",
              "      <td>...</td>\n",
              "      <td>...</td>\n",
              "      <td>...</td>\n",
              "      <td>...</td>\n",
              "      <td>...</td>\n",
              "      <td>...</td>\n",
              "      <td>...</td>\n",
              "      <td>...</td>\n",
              "      <td>...</td>\n",
              "      <td>...</td>\n",
              "    </tr>\n",
              "    <tr>\n",
              "      <th>196</th>\n",
              "      <td>Papua New Guinea</td>\n",
              "      <td>1</td>\n",
              "      <td></td>\n",
              "      <td></td>\n",
              "      <td></td>\n",
              "      <td></td>\n",
              "      <td>1</td>\n",
              "      <td></td>\n",
              "      <td>0.1</td>\n",
              "      <td></td>\n",
              "    </tr>\n",
              "    <tr>\n",
              "      <th>197</th>\n",
              "      <td>St. Vincent Grenadines</td>\n",
              "      <td>1</td>\n",
              "      <td></td>\n",
              "      <td></td>\n",
              "      <td></td>\n",
              "      <td></td>\n",
              "      <td>1</td>\n",
              "      <td></td>\n",
              "      <td>9</td>\n",
              "      <td></td>\n",
              "    </tr>\n",
              "    <tr>\n",
              "      <th>198</th>\n",
              "      <td>Timor-Leste</td>\n",
              "      <td>1</td>\n",
              "      <td></td>\n",
              "      <td></td>\n",
              "      <td></td>\n",
              "      <td></td>\n",
              "      <td>1</td>\n",
              "      <td></td>\n",
              "      <td>0.8</td>\n",
              "      <td></td>\n",
              "    </tr>\n",
              "    <tr>\n",
              "      <th>199</th>\n",
              "      <td>Turks and Caicos</td>\n",
              "      <td>1</td>\n",
              "      <td></td>\n",
              "      <td></td>\n",
              "      <td></td>\n",
              "      <td></td>\n",
              "      <td>1</td>\n",
              "      <td></td>\n",
              "      <td>26</td>\n",
              "      <td></td>\n",
              "    </tr>\n",
              "    <tr>\n",
              "      <th>200</th>\n",
              "      <td>Total:</td>\n",
              "      <td>491,307</td>\n",
              "      <td>20,339</td>\n",
              "      <td>22,166</td>\n",
              "      <td>888</td>\n",
              "      <td>118,060</td>\n",
              "      <td>351,081</td>\n",
              "      <td>17,769</td>\n",
              "      <td>63.0</td>\n",
              "      <td>2.8</td>\n",
              "    </tr>\n",
              "  </tbody>\n",
              "</table>\n",
              "<p>200 rows × 10 columns</p>\n",
              "</div>"
            ],
            "text/plain": [
              "0             Country,Other TotalCases  ... Tot Cases/1M pop Tot Deaths/1M pop\n",
              "1                     China     81,285  ...               56                 2\n",
              "2                     Italy     74,386  ...            1,230               124\n",
              "3                       USA     68,836  ...              208                 3\n",
              "4                     Spain     56,188  ...            1,202                87\n",
              "5                   Germany     40,421  ...              482                 3\n",
              "..                      ...        ...  ...              ...               ...\n",
              "196        Papua New Guinea          1  ...              0.1                  \n",
              "197  St. Vincent Grenadines          1  ...                9                  \n",
              "198             Timor-Leste          1  ...              0.8                  \n",
              "199        Turks and Caicos          1  ...               26                  \n",
              "200                  Total:    491,307  ...             63.0               2.8\n",
              "\n",
              "[200 rows x 10 columns]"
            ]
          },
          "metadata": {
            "tags": []
          },
          "execution_count": 17
        }
      ]
    },
    {
      "cell_type": "code",
      "metadata": {
        "id": "8J2k-siARQgH",
        "colab_type": "code",
        "colab": {}
      },
      "source": [
        "df.to_csv('covid19')"
      ],
      "execution_count": 0,
      "outputs": []
    }
  ]
}